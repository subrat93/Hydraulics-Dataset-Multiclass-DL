{
 "cells": [
  {
   "cell_type": "code",
   "execution_count": 199,
   "metadata": {},
   "outputs": [],
   "source": [
    "# roc curve and auc\n",
    "from sklearn.datasets import make_classification\n",
    "from sklearn.neighbors import KNeighborsClassifier\n",
    "from sklearn.model_selection import train_test_split\n",
    "from sklearn.metrics import roc_curve\n",
    "from sklearn.metrics import roc_auc_score\n",
    "from matplotlib import pyplot as plt\n",
    "import pandas as pd\n",
    "import numpy as np\n",
    "import seaborn as sns\n",
    "\n",
    "from sklearn.model_selection import cross_val_score\n",
    "from sklearn.model_selection import KFold\n",
    "from numpy.random import seed\n",
    "seed(42)\n",
    "import keras\n",
    "from keras.models import Sequential, load_model\n",
    "from keras.callbacks import ModelCheckpoint\n",
    "\n",
    "from keras.layers import Dense, Dropout\n",
    "from keras import metrics\n",
    "from matplotlib import pyplot\n",
    "\n",
    "from sklearn.metrics import precision_recall_curve\n",
    "from sklearn.metrics import f1_score\n",
    "from sklearn.metrics import auc\n",
    "from sklearn.metrics import average_precision_score"
   ]
  },
  {
   "cell_type": "code",
   "execution_count": 200,
   "metadata": {},
   "outputs": [],
   "source": [
    "import warnings\n",
    "warnings.filterwarnings('ignore')"
   ]
  },
  {
   "cell_type": "code",
   "execution_count": 259,
   "metadata": {},
   "outputs": [
    {
     "data": {
      "text/plain": [
       "(2205, 22)"
      ]
     },
     "execution_count": 259,
     "metadata": {},
     "output_type": "execute_result"
    }
   ],
   "source": [
    "df = pd.read_csv('hyd_dataset_median.csv')\n",
    "df.shape"
   ]
  },
  {
   "cell_type": "code",
   "execution_count": 260,
   "metadata": {},
   "outputs": [
    {
     "data": {
      "text/html": [
       "<div>\n",
       "<style scoped>\n",
       "    .dataframe tbody tr th:only-of-type {\n",
       "        vertical-align: middle;\n",
       "    }\n",
       "\n",
       "    .dataframe tbody tr th {\n",
       "        vertical-align: top;\n",
       "    }\n",
       "\n",
       "    .dataframe thead th {\n",
       "        text-align: right;\n",
       "    }\n",
       "</style>\n",
       "<table border=\"1\" class=\"dataframe\">\n",
       "  <thead>\n",
       "    <tr style=\"text-align: right;\">\n",
       "      <th></th>\n",
       "      <th>Cooler_cond</th>\n",
       "      <th>Valve_cond</th>\n",
       "      <th>pump_leakage</th>\n",
       "      <th>Hyd_accumulator</th>\n",
       "      <th>stable_flag</th>\n",
       "      <th>CE_median</th>\n",
       "      <th>CP_median</th>\n",
       "      <th>PS1_median</th>\n",
       "      <th>PS2_median</th>\n",
       "      <th>PS3_median</th>\n",
       "      <th>...</th>\n",
       "      <th>PS6_median</th>\n",
       "      <th>EPS1_median</th>\n",
       "      <th>FS1_median</th>\n",
       "      <th>FS2_median</th>\n",
       "      <th>SE_median</th>\n",
       "      <th>VS1_median</th>\n",
       "      <th>TS1_median</th>\n",
       "      <th>TS2_median</th>\n",
       "      <th>TS3_median</th>\n",
       "      <th>TS4_median</th>\n",
       "    </tr>\n",
       "  </thead>\n",
       "  <tbody>\n",
       "    <tr>\n",
       "      <th>0</th>\n",
       "      <td>3</td>\n",
       "      <td>100</td>\n",
       "      <td>0</td>\n",
       "      <td>130</td>\n",
       "      <td>1</td>\n",
       "      <td>40.68</td>\n",
       "      <td>1.92</td>\n",
       "      <td>156.25</td>\n",
       "      <td>129.37</td>\n",
       "      <td>2.30</td>\n",
       "      <td>...</td>\n",
       "      <td>9.73</td>\n",
       "      <td>2479.8</td>\n",
       "      <td>7.84</td>\n",
       "      <td>10.33</td>\n",
       "      <td>68.51</td>\n",
       "      <td>0.58</td>\n",
       "      <td>35.57</td>\n",
       "      <td>40.96</td>\n",
       "      <td>38.50</td>\n",
       "      <td>31.58</td>\n",
       "    </tr>\n",
       "    <tr>\n",
       "      <th>1</th>\n",
       "      <td>3</td>\n",
       "      <td>100</td>\n",
       "      <td>0</td>\n",
       "      <td>130</td>\n",
       "      <td>1</td>\n",
       "      <td>25.39</td>\n",
       "      <td>1.23</td>\n",
       "      <td>156.06</td>\n",
       "      <td>129.38</td>\n",
       "      <td>2.27</td>\n",
       "      <td>...</td>\n",
       "      <td>9.53</td>\n",
       "      <td>2470.0</td>\n",
       "      <td>7.85</td>\n",
       "      <td>10.40</td>\n",
       "      <td>68.54</td>\n",
       "      <td>0.56</td>\n",
       "      <td>36.77</td>\n",
       "      <td>41.52</td>\n",
       "      <td>38.98</td>\n",
       "      <td>34.55</td>\n",
       "    </tr>\n",
       "    <tr>\n",
       "      <th>2</th>\n",
       "      <td>3</td>\n",
       "      <td>100</td>\n",
       "      <td>0</td>\n",
       "      <td>130</td>\n",
       "      <td>1</td>\n",
       "      <td>22.10</td>\n",
       "      <td>1.11</td>\n",
       "      <td>155.72</td>\n",
       "      <td>129.32</td>\n",
       "      <td>2.27</td>\n",
       "      <td>...</td>\n",
       "      <td>9.43</td>\n",
       "      <td>2457.4</td>\n",
       "      <td>7.85</td>\n",
       "      <td>10.37</td>\n",
       "      <td>68.85</td>\n",
       "      <td>0.56</td>\n",
       "      <td>38.02</td>\n",
       "      <td>42.42</td>\n",
       "      <td>39.63</td>\n",
       "      <td>35.63</td>\n",
       "    </tr>\n",
       "    <tr>\n",
       "      <th>3</th>\n",
       "      <td>3</td>\n",
       "      <td>100</td>\n",
       "      <td>0</td>\n",
       "      <td>130</td>\n",
       "      <td>1</td>\n",
       "      <td>20.48</td>\n",
       "      <td>1.07</td>\n",
       "      <td>155.56</td>\n",
       "      <td>128.87</td>\n",
       "      <td>2.24</td>\n",
       "      <td>...</td>\n",
       "      <td>9.34</td>\n",
       "      <td>2448.0</td>\n",
       "      <td>7.84</td>\n",
       "      <td>10.30</td>\n",
       "      <td>69.01</td>\n",
       "      <td>0.56</td>\n",
       "      <td>39.05</td>\n",
       "      <td>43.36</td>\n",
       "      <td>40.34</td>\n",
       "      <td>36.64</td>\n",
       "    </tr>\n",
       "    <tr>\n",
       "      <th>4</th>\n",
       "      <td>3</td>\n",
       "      <td>100</td>\n",
       "      <td>0</td>\n",
       "      <td>130</td>\n",
       "      <td>1</td>\n",
       "      <td>19.80</td>\n",
       "      <td>1.07</td>\n",
       "      <td>155.34</td>\n",
       "      <td>129.00</td>\n",
       "      <td>2.22</td>\n",
       "      <td>...</td>\n",
       "      <td>9.26</td>\n",
       "      <td>2440.6</td>\n",
       "      <td>7.83</td>\n",
       "      <td>10.24</td>\n",
       "      <td>69.01</td>\n",
       "      <td>0.58</td>\n",
       "      <td>39.97</td>\n",
       "      <td>44.34</td>\n",
       "      <td>41.34</td>\n",
       "      <td>37.44</td>\n",
       "    </tr>\n",
       "  </tbody>\n",
       "</table>\n",
       "<p>5 rows × 22 columns</p>\n",
       "</div>"
      ],
      "text/plain": [
       "   Cooler_cond  Valve_cond  pump_leakage  Hyd_accumulator  stable_flag  \\\n",
       "0            3         100             0              130            1   \n",
       "1            3         100             0              130            1   \n",
       "2            3         100             0              130            1   \n",
       "3            3         100             0              130            1   \n",
       "4            3         100             0              130            1   \n",
       "\n",
       "   CE_median  CP_median  PS1_median  PS2_median  PS3_median     ...      \\\n",
       "0      40.68       1.92      156.25      129.37        2.30     ...       \n",
       "1      25.39       1.23      156.06      129.38        2.27     ...       \n",
       "2      22.10       1.11      155.72      129.32        2.27     ...       \n",
       "3      20.48       1.07      155.56      128.87        2.24     ...       \n",
       "4      19.80       1.07      155.34      129.00        2.22     ...       \n",
       "\n",
       "   PS6_median  EPS1_median  FS1_median  FS2_median  SE_median  VS1_median  \\\n",
       "0        9.73       2479.8        7.84       10.33      68.51        0.58   \n",
       "1        9.53       2470.0        7.85       10.40      68.54        0.56   \n",
       "2        9.43       2457.4        7.85       10.37      68.85        0.56   \n",
       "3        9.34       2448.0        7.84       10.30      69.01        0.56   \n",
       "4        9.26       2440.6        7.83       10.24      69.01        0.58   \n",
       "\n",
       "   TS1_median  TS2_median  TS3_median  TS4_median  \n",
       "0       35.57       40.96       38.50       31.58  \n",
       "1       36.77       41.52       38.98       34.55  \n",
       "2       38.02       42.42       39.63       35.63  \n",
       "3       39.05       43.36       40.34       36.64  \n",
       "4       39.97       44.34       41.34       37.44  \n",
       "\n",
       "[5 rows x 22 columns]"
      ]
     },
     "execution_count": 260,
     "metadata": {},
     "output_type": "execute_result"
    }
   ],
   "source": [
    "df.head()"
   ]
  },
  {
   "cell_type": "code",
   "execution_count": 283,
   "metadata": {},
   "outputs": [],
   "source": [
    "del df['stable_flag']"
   ]
  },
  {
   "cell_type": "code",
   "execution_count": 284,
   "metadata": {},
   "outputs": [
    {
     "data": {
      "text/plain": [
       "(1922, 21)"
      ]
     },
     "execution_count": 284,
     "metadata": {},
     "output_type": "execute_result"
    }
   ],
   "source": [
    "df.shape"
   ]
  },
  {
   "cell_type": "markdown",
   "metadata": {},
   "source": [
    "## - Preprocessing and Exploratory Data Analysis already done in Binary Classification case -"
   ]
  },
  {
   "cell_type": "code",
   "execution_count": 285,
   "metadata": {},
   "outputs": [
    {
     "data": {
      "text/plain": [
       "(1922, 21)"
      ]
     },
     "execution_count": 285,
     "metadata": {},
     "output_type": "execute_result"
    }
   ],
   "source": [
    "df_corr = df.select_dtypes(include=[np.number])\n",
    "df_corr.shape"
   ]
  },
  {
   "cell_type": "code",
   "execution_count": 286,
   "metadata": {},
   "outputs": [
    {
     "data": {
      "text/plain": [
       "<matplotlib.axes._subplots.AxesSubplot at 0x18c6111fb70>"
      ]
     },
     "execution_count": 286,
     "metadata": {},
     "output_type": "execute_result"
    },
    {
     "data": {
      "image/png": "[encoded data removed]",
      "text/plain": [
       "<Figure size 1440x648 with 2 Axes>"
      ]
     },
     "metadata": {
      "needs_background": "light"
     },
     "output_type": "display_data"
    }
   ],
   "source": [
    "#Corelation plot\n",
    "corr = df_corr.corr()\n",
    "plt.subplots(figsize=(20,9))\n",
    "sns.heatmap(corr, annot=True)"
   ]
  },
  {
   "cell_type": "code",
   "execution_count": 287,
   "metadata": {},
   "outputs": [],
   "source": [
    "# top_feature = corr.index[abs(corr['Hyd_accumulator']>0.3)]\n",
    "# plt.subplots(figsize=(12, 8))\n",
    "# top_corr = df[top_feature].corr()\n",
    "# sns.heatmap(top_corr, annot=True)\n",
    "# plt.show()"
   ]
  },
  {
   "cell_type": "code",
   "execution_count": 288,
   "metadata": {},
   "outputs": [
    {
     "data": {
      "text/plain": [
       "array([130, 115, 100,  90], dtype=int64)"
      ]
     },
     "execution_count": 288,
     "metadata": {},
     "output_type": "execute_result"
    }
   ],
   "source": [
    "df.Hyd_accumulator.unique()"
   ]
  },
  {
   "cell_type": "code",
   "execution_count": 295,
   "metadata": {},
   "outputs": [
    {
     "data": {
      "text/plain": [
       "Index(['Hyd_accumulator', 'CE_median', 'CP_median', 'PS1_median', 'PS2_median',\n",
       "       'PS3_median', 'PS4_median', 'PS5_median', 'PS6_median', 'EPS1_median',\n",
       "       'FS1_median', 'FS2_median', 'SE_median', 'VS1_median', 'TS1_median',\n",
       "       'TS2_median', 'TS3_median', 'TS4_median'],\n",
       "      dtype='object')"
      ]
     },
     "execution_count": 295,
     "metadata": {},
     "output_type": "execute_result"
    }
   ],
   "source": [
    "cols = df.columns\n",
    "cat_cols = ['Cooler_cond', 'Valve_cond', 'pump_leakage']\n",
    "num_cols = cols.copy()\n",
    "num_cols = num_cols[~np.in1d(num_cols, cat_cols)]\n",
    "num_cols"
   ]
  },
  {
   "cell_type": "code",
   "execution_count": 296,
   "metadata": {},
   "outputs": [
    {
     "data": {
      "text/plain": [
       "[0, 1, 2]"
      ]
     },
     "execution_count": 296,
     "metadata": {},
     "output_type": "execute_result"
    }
   ],
   "source": [
    "cat_col_index = [df.columns.get_loc(c) for c in cat_cols if c in df]\n",
    "cat_col_index"
   ]
  },
  {
   "cell_type": "code",
   "execution_count": 297,
   "metadata": {},
   "outputs": [
    {
     "name": "stdout",
     "output_type": "stream",
     "text": [
      "Number of Outliers: 173\n",
      "Number of rows without outliers: 1555\n"
     ]
    }
   ],
   "source": [
    "from sklearn.ensemble import IsolationForest\n",
    "\n",
    "clf = IsolationForest(max_samples = 100, random_state = 42)\n",
    "clf.fit(df)\n",
    "y_noano = clf.predict(df)\n",
    "y_noano = pd.DataFrame(y_noano, columns = ['Top'])\n",
    "y_noano[y_noano['Top'] == 1].index.values\n",
    "\n",
    "df = df.iloc[y_noano[y_noano['Top'] == 1].index.values]\n",
    "df.reset_index(drop = True, inplace = True)\n",
    "print(\"Number of Outliers:\", y_noano[y_noano['Top'] == -1].shape[0])\n",
    "print(\"Number of rows without outliers:\", df.shape[0])"
   ]
  },
  {
   "cell_type": "code",
   "execution_count": 298,
   "metadata": {},
   "outputs": [
    {
     "data": {
      "text/plain": [
       "(1555, 21)"
      ]
     },
     "execution_count": 298,
     "metadata": {},
     "output_type": "execute_result"
    }
   ],
   "source": [
    "from scipy import stats\n",
    "df = df[(np.abs(stats.zscore(df)) < 3).all(axis=1)]\n",
    "df.shape"
   ]
  },
  {
   "cell_type": "code",
   "execution_count": 299,
   "metadata": {},
   "outputs": [],
   "source": [
    "from sklearn.preprocessing import LabelEncoder, OneHotEncoder\n",
    "df_LE = df.copy(deep=True)\n",
    "for c in cat_cols:\n",
    "    lbl = LabelEncoder() \n",
    "    lbl.fit(list(df[c].values)) \n",
    "    df_LE[c] = lbl.transform(list(df[c].values))"
   ]
  },
  {
   "cell_type": "code",
   "execution_count": 300,
   "metadata": {},
   "outputs": [
    {
     "data": {
      "text/html": [
       "<div>\n",
       "<style scoped>\n",
       "    .dataframe tbody tr th:only-of-type {\n",
       "        vertical-align: middle;\n",
       "    }\n",
       "\n",
       "    .dataframe tbody tr th {\n",
       "        vertical-align: top;\n",
       "    }\n",
       "\n",
       "    .dataframe thead th {\n",
       "        text-align: right;\n",
       "    }\n",
       "</style>\n",
       "<table border=\"1\" class=\"dataframe\">\n",
       "  <thead>\n",
       "    <tr style=\"text-align: right;\">\n",
       "      <th></th>\n",
       "      <th>Cooler_cond</th>\n",
       "      <th>Valve_cond</th>\n",
       "      <th>pump_leakage</th>\n",
       "      <th>Hyd_accumulator</th>\n",
       "      <th>CE_median</th>\n",
       "      <th>CP_median</th>\n",
       "      <th>PS1_median</th>\n",
       "      <th>PS2_median</th>\n",
       "      <th>PS3_median</th>\n",
       "      <th>PS4_median</th>\n",
       "      <th>...</th>\n",
       "      <th>PS6_median</th>\n",
       "      <th>EPS1_median</th>\n",
       "      <th>FS1_median</th>\n",
       "      <th>FS2_median</th>\n",
       "      <th>SE_median</th>\n",
       "      <th>VS1_median</th>\n",
       "      <th>TS1_median</th>\n",
       "      <th>TS2_median</th>\n",
       "      <th>TS3_median</th>\n",
       "      <th>TS4_median</th>\n",
       "    </tr>\n",
       "  </thead>\n",
       "  <tbody>\n",
       "    <tr>\n",
       "      <th>0</th>\n",
       "      <td>0</td>\n",
       "      <td>3</td>\n",
       "      <td>0</td>\n",
       "      <td>130</td>\n",
       "      <td>18.67</td>\n",
       "      <td>1.41</td>\n",
       "      <td>152.94</td>\n",
       "      <td>126.76</td>\n",
       "      <td>1.99</td>\n",
       "      <td>0.0</td>\n",
       "      <td>...</td>\n",
       "      <td>8.68</td>\n",
       "      <td>2357.0</td>\n",
       "      <td>7.74</td>\n",
       "      <td>9.47</td>\n",
       "      <td>69.68</td>\n",
       "      <td>0.64</td>\n",
       "      <td>50.44</td>\n",
       "      <td>54.99</td>\n",
       "      <td>51.85</td>\n",
       "      <td>46.37</td>\n",
       "    </tr>\n",
       "    <tr>\n",
       "      <th>1</th>\n",
       "      <td>0</td>\n",
       "      <td>3</td>\n",
       "      <td>0</td>\n",
       "      <td>130</td>\n",
       "      <td>18.88</td>\n",
       "      <td>1.42</td>\n",
       "      <td>152.91</td>\n",
       "      <td>126.75</td>\n",
       "      <td>1.98</td>\n",
       "      <td>0.0</td>\n",
       "      <td>...</td>\n",
       "      <td>8.68</td>\n",
       "      <td>2355.8</td>\n",
       "      <td>7.74</td>\n",
       "      <td>9.47</td>\n",
       "      <td>69.65</td>\n",
       "      <td>0.62</td>\n",
       "      <td>50.57</td>\n",
       "      <td>55.12</td>\n",
       "      <td>51.95</td>\n",
       "      <td>46.38</td>\n",
       "    </tr>\n",
       "    <tr>\n",
       "      <th>2</th>\n",
       "      <td>0</td>\n",
       "      <td>3</td>\n",
       "      <td>0</td>\n",
       "      <td>130</td>\n",
       "      <td>18.79</td>\n",
       "      <td>1.42</td>\n",
       "      <td>152.91</td>\n",
       "      <td>126.77</td>\n",
       "      <td>1.98</td>\n",
       "      <td>0.0</td>\n",
       "      <td>...</td>\n",
       "      <td>8.68</td>\n",
       "      <td>2357.2</td>\n",
       "      <td>7.75</td>\n",
       "      <td>9.46</td>\n",
       "      <td>69.50</td>\n",
       "      <td>0.62</td>\n",
       "      <td>50.63</td>\n",
       "      <td>55.23</td>\n",
       "      <td>52.03</td>\n",
       "      <td>46.47</td>\n",
       "    </tr>\n",
       "    <tr>\n",
       "      <th>3</th>\n",
       "      <td>0</td>\n",
       "      <td>3</td>\n",
       "      <td>0</td>\n",
       "      <td>130</td>\n",
       "      <td>18.79</td>\n",
       "      <td>1.42</td>\n",
       "      <td>152.89</td>\n",
       "      <td>126.76</td>\n",
       "      <td>1.97</td>\n",
       "      <td>0.0</td>\n",
       "      <td>...</td>\n",
       "      <td>8.68</td>\n",
       "      <td>2358.0</td>\n",
       "      <td>7.74</td>\n",
       "      <td>9.45</td>\n",
       "      <td>69.61</td>\n",
       "      <td>0.62</td>\n",
       "      <td>50.75</td>\n",
       "      <td>55.31</td>\n",
       "      <td>52.12</td>\n",
       "      <td>46.59</td>\n",
       "    </tr>\n",
       "    <tr>\n",
       "      <th>4</th>\n",
       "      <td>0</td>\n",
       "      <td>3</td>\n",
       "      <td>0</td>\n",
       "      <td>130</td>\n",
       "      <td>18.90</td>\n",
       "      <td>1.44</td>\n",
       "      <td>152.98</td>\n",
       "      <td>126.86</td>\n",
       "      <td>1.98</td>\n",
       "      <td>0.0</td>\n",
       "      <td>...</td>\n",
       "      <td>8.67</td>\n",
       "      <td>2359.6</td>\n",
       "      <td>7.75</td>\n",
       "      <td>9.44</td>\n",
       "      <td>69.65</td>\n",
       "      <td>0.64</td>\n",
       "      <td>50.81</td>\n",
       "      <td>55.39</td>\n",
       "      <td>52.28</td>\n",
       "      <td>46.63</td>\n",
       "    </tr>\n",
       "  </tbody>\n",
       "</table>\n",
       "<p>5 rows × 21 columns</p>\n",
       "</div>"
      ],
      "text/plain": [
       "   Cooler_cond  Valve_cond  pump_leakage  Hyd_accumulator  CE_median  \\\n",
       "0            0           3             0              130      18.67   \n",
       "1            0           3             0              130      18.88   \n",
       "2            0           3             0              130      18.79   \n",
       "3            0           3             0              130      18.79   \n",
       "4            0           3             0              130      18.90   \n",
       "\n",
       "   CP_median  PS1_median  PS2_median  PS3_median  PS4_median     ...      \\\n",
       "0       1.41      152.94      126.76        1.99         0.0     ...       \n",
       "1       1.42      152.91      126.75        1.98         0.0     ...       \n",
       "2       1.42      152.91      126.77        1.98         0.0     ...       \n",
       "3       1.42      152.89      126.76        1.97         0.0     ...       \n",
       "4       1.44      152.98      126.86        1.98         0.0     ...       \n",
       "\n",
       "   PS6_median  EPS1_median  FS1_median  FS2_median  SE_median  VS1_median  \\\n",
       "0        8.68       2357.0        7.74        9.47      69.68        0.64   \n",
       "1        8.68       2355.8        7.74        9.47      69.65        0.62   \n",
       "2        8.68       2357.2        7.75        9.46      69.50        0.62   \n",
       "3        8.68       2358.0        7.74        9.45      69.61        0.62   \n",
       "4        8.67       2359.6        7.75        9.44      69.65        0.64   \n",
       "\n",
       "   TS1_median  TS2_median  TS3_median  TS4_median  \n",
       "0       50.44       54.99       51.85       46.37  \n",
       "1       50.57       55.12       51.95       46.38  \n",
       "2       50.63       55.23       52.03       46.47  \n",
       "3       50.75       55.31       52.12       46.59  \n",
       "4       50.81       55.39       52.28       46.63  \n",
       "\n",
       "[5 rows x 21 columns]"
      ]
     },
     "execution_count": 300,
     "metadata": {},
     "output_type": "execute_result"
    }
   ],
   "source": [
    "df_LE.head()"
   ]
  },
  {
   "cell_type": "code",
   "execution_count": 301,
   "metadata": {},
   "outputs": [],
   "source": [
    "X = df_LE.copy(deep=True)\n",
    "del X['Hyd_accumulator']\n",
    "y = df_LE['Hyd_accumulator']"
   ]
  },
  {
   "cell_type": "code",
   "execution_count": 303,
   "metadata": {},
   "outputs": [
    {
     "name": "stdout",
     "output_type": "stream",
     "text": [
      "[0 1 2]\n",
      "[3 0 1 2]\n",
      "[0 2 1]\n"
     ]
    }
   ],
   "source": [
    "print(X.Cooler_cond.unique())\n",
    "print(X.Valve_cond.unique())\n",
    "print(X.pump_leakage.unique())\n",
    "# print(X.stable_flag.unique())"
   ]
  },
  {
   "cell_type": "code",
   "execution_count": 304,
   "metadata": {},
   "outputs": [
    {
     "data": {
      "text/plain": [
       "(1555, 20)"
      ]
     },
     "execution_count": 304,
     "metadata": {},
     "output_type": "execute_result"
    }
   ],
   "source": [
    "X.shape"
   ]
  },
  {
   "cell_type": "code",
   "execution_count": 305,
   "metadata": {},
   "outputs": [
    {
     "data": {
      "text/plain": [
       "[0, 1, 2]"
      ]
     },
     "execution_count": 305,
     "metadata": {},
     "output_type": "execute_result"
    }
   ],
   "source": [
    "cat_col_index"
   ]
  },
  {
   "cell_type": "code",
   "execution_count": 306,
   "metadata": {},
   "outputs": [],
   "source": [
    "onehotencoder = OneHotEncoder(categorical_features = cat_col_index)\n",
    "X_OHE = pd.DataFrame(onehotencoder.fit_transform(X).toarray())"
   ]
  },
  {
   "cell_type": "code",
   "execution_count": 307,
   "metadata": {},
   "outputs": [
    {
     "data": {
      "text/plain": [
       "(1555, 27)"
      ]
     },
     "execution_count": 307,
     "metadata": {},
     "output_type": "execute_result"
    }
   ],
   "source": [
    "X_OHE.shape"
   ]
  },
  {
   "cell_type": "code",
   "execution_count": 308,
   "metadata": {},
   "outputs": [],
   "source": [
    "#normalize the dataset\n",
    "from sklearn.preprocessing import StandardScaler, MinMaxScaler\n",
    "\n",
    "scaler = MinMaxScaler()\n",
    "X_OHE_SC = pd.DataFrame(scaler.fit_transform(X_OHE))"
   ]
  },
  {
   "cell_type": "code",
   "execution_count": 309,
   "metadata": {},
   "outputs": [
    {
     "data": {
      "text/html": [
       "<div>\n",
       "<style scoped>\n",
       "    .dataframe tbody tr th:only-of-type {\n",
       "        vertical-align: middle;\n",
       "    }\n",
       "\n",
       "    .dataframe tbody tr th {\n",
       "        vertical-align: top;\n",
       "    }\n",
       "\n",
       "    .dataframe thead th {\n",
       "        text-align: right;\n",
       "    }\n",
       "</style>\n",
       "<table border=\"1\" class=\"dataframe\">\n",
       "  <thead>\n",
       "    <tr style=\"text-align: right;\">\n",
       "      <th></th>\n",
       "      <th>0</th>\n",
       "      <th>1</th>\n",
       "      <th>2</th>\n",
       "      <th>3</th>\n",
       "      <th>4</th>\n",
       "      <th>5</th>\n",
       "      <th>6</th>\n",
       "      <th>7</th>\n",
       "      <th>8</th>\n",
       "      <th>9</th>\n",
       "      <th>...</th>\n",
       "      <th>17</th>\n",
       "      <th>18</th>\n",
       "      <th>19</th>\n",
       "      <th>20</th>\n",
       "      <th>21</th>\n",
       "      <th>22</th>\n",
       "      <th>23</th>\n",
       "      <th>24</th>\n",
       "      <th>25</th>\n",
       "      <th>26</th>\n",
       "    </tr>\n",
       "  </thead>\n",
       "  <tbody>\n",
       "    <tr>\n",
       "      <th>0</th>\n",
       "      <td>1.0</td>\n",
       "      <td>0.0</td>\n",
       "      <td>0.0</td>\n",
       "      <td>0.0</td>\n",
       "      <td>0.0</td>\n",
       "      <td>0.0</td>\n",
       "      <td>1.0</td>\n",
       "      <td>1.0</td>\n",
       "      <td>0.0</td>\n",
       "      <td>0.0</td>\n",
       "      <td>...</td>\n",
       "      <td>0.186207</td>\n",
       "      <td>0.194292</td>\n",
       "      <td>0.744186</td>\n",
       "      <td>0.367521</td>\n",
       "      <td>0.947368</td>\n",
       "      <td>0.857143</td>\n",
       "      <td>0.721610</td>\n",
       "      <td>0.716093</td>\n",
       "      <td>0.700000</td>\n",
       "      <td>0.759145</td>\n",
       "    </tr>\n",
       "    <tr>\n",
       "      <th>1</th>\n",
       "      <td>1.0</td>\n",
       "      <td>0.0</td>\n",
       "      <td>0.0</td>\n",
       "      <td>0.0</td>\n",
       "      <td>0.0</td>\n",
       "      <td>0.0</td>\n",
       "      <td>1.0</td>\n",
       "      <td>1.0</td>\n",
       "      <td>0.0</td>\n",
       "      <td>0.0</td>\n",
       "      <td>...</td>\n",
       "      <td>0.186207</td>\n",
       "      <td>0.187706</td>\n",
       "      <td>0.744186</td>\n",
       "      <td>0.367521</td>\n",
       "      <td>0.941924</td>\n",
       "      <td>0.714286</td>\n",
       "      <td>0.727839</td>\n",
       "      <td>0.722672</td>\n",
       "      <td>0.705128</td>\n",
       "      <td>0.759620</td>\n",
       "    </tr>\n",
       "    <tr>\n",
       "      <th>2</th>\n",
       "      <td>1.0</td>\n",
       "      <td>0.0</td>\n",
       "      <td>0.0</td>\n",
       "      <td>0.0</td>\n",
       "      <td>0.0</td>\n",
       "      <td>0.0</td>\n",
       "      <td>1.0</td>\n",
       "      <td>1.0</td>\n",
       "      <td>0.0</td>\n",
       "      <td>0.0</td>\n",
       "      <td>...</td>\n",
       "      <td>0.186207</td>\n",
       "      <td>0.195390</td>\n",
       "      <td>0.767442</td>\n",
       "      <td>0.358974</td>\n",
       "      <td>0.914701</td>\n",
       "      <td>0.714286</td>\n",
       "      <td>0.730714</td>\n",
       "      <td>0.728239</td>\n",
       "      <td>0.709231</td>\n",
       "      <td>0.763895</td>\n",
       "    </tr>\n",
       "    <tr>\n",
       "      <th>3</th>\n",
       "      <td>1.0</td>\n",
       "      <td>0.0</td>\n",
       "      <td>0.0</td>\n",
       "      <td>0.0</td>\n",
       "      <td>0.0</td>\n",
       "      <td>0.0</td>\n",
       "      <td>1.0</td>\n",
       "      <td>1.0</td>\n",
       "      <td>0.0</td>\n",
       "      <td>0.0</td>\n",
       "      <td>...</td>\n",
       "      <td>0.186207</td>\n",
       "      <td>0.199780</td>\n",
       "      <td>0.744186</td>\n",
       "      <td>0.350427</td>\n",
       "      <td>0.934664</td>\n",
       "      <td>0.714286</td>\n",
       "      <td>0.736464</td>\n",
       "      <td>0.732287</td>\n",
       "      <td>0.713846</td>\n",
       "      <td>0.769596</td>\n",
       "    </tr>\n",
       "    <tr>\n",
       "      <th>4</th>\n",
       "      <td>1.0</td>\n",
       "      <td>0.0</td>\n",
       "      <td>0.0</td>\n",
       "      <td>0.0</td>\n",
       "      <td>0.0</td>\n",
       "      <td>0.0</td>\n",
       "      <td>1.0</td>\n",
       "      <td>1.0</td>\n",
       "      <td>0.0</td>\n",
       "      <td>0.0</td>\n",
       "      <td>...</td>\n",
       "      <td>0.179310</td>\n",
       "      <td>0.208562</td>\n",
       "      <td>0.767442</td>\n",
       "      <td>0.341880</td>\n",
       "      <td>0.941924</td>\n",
       "      <td>0.857143</td>\n",
       "      <td>0.739339</td>\n",
       "      <td>0.736336</td>\n",
       "      <td>0.722051</td>\n",
       "      <td>0.771496</td>\n",
       "    </tr>\n",
       "  </tbody>\n",
       "</table>\n",
       "<p>5 rows × 27 columns</p>\n",
       "</div>"
      ],
      "text/plain": [
       "    0    1    2    3    4    5    6    7    8    9     ...           17  \\\n",
       "0  1.0  0.0  0.0  0.0  0.0  0.0  1.0  1.0  0.0  0.0    ...     0.186207   \n",
       "1  1.0  0.0  0.0  0.0  0.0  0.0  1.0  1.0  0.0  0.0    ...     0.186207   \n",
       "2  1.0  0.0  0.0  0.0  0.0  0.0  1.0  1.0  0.0  0.0    ...     0.186207   \n",
       "3  1.0  0.0  0.0  0.0  0.0  0.0  1.0  1.0  0.0  0.0    ...     0.186207   \n",
       "4  1.0  0.0  0.0  0.0  0.0  0.0  1.0  1.0  0.0  0.0    ...     0.179310   \n",
       "\n",
       "         18        19        20        21        22        23        24  \\\n",
       "0  0.194292  0.744186  0.367521  0.947368  0.857143  0.721610  0.716093   \n",
       "1  0.187706  0.744186  0.367521  0.941924  0.714286  0.727839  0.722672   \n",
       "2  0.195390  0.767442  0.358974  0.914701  0.714286  0.730714  0.728239   \n",
       "3  0.199780  0.744186  0.350427  0.934664  0.714286  0.736464  0.732287   \n",
       "4  0.208562  0.767442  0.341880  0.941924  0.857143  0.739339  0.736336   \n",
       "\n",
       "         25        26  \n",
       "0  0.700000  0.759145  \n",
       "1  0.705128  0.759620  \n",
       "2  0.709231  0.763895  \n",
       "3  0.713846  0.769596  \n",
       "4  0.722051  0.771496  \n",
       "\n",
       "[5 rows x 27 columns]"
      ]
     },
     "execution_count": 309,
     "metadata": {},
     "output_type": "execute_result"
    }
   ],
   "source": [
    "X_OHE_SC.head()"
   ]
  },
  {
   "cell_type": "code",
   "execution_count": 310,
   "metadata": {},
   "outputs": [
    {
     "data": {
      "text/plain": [
       "array([3, 3, 3, ..., 0, 0, 0], dtype=int64)"
      ]
     },
     "execution_count": 310,
     "metadata": {},
     "output_type": "execute_result"
    }
   ],
   "source": [
    "y_lbl = LabelEncoder()\n",
    "y_LE = y_lbl.fit_transform(y)\n",
    "y_LE"
   ]
  },
  {
   "cell_type": "code",
   "execution_count": 311,
   "metadata": {},
   "outputs": [
    {
     "data": {
      "text/html": [
       "<div>\n",
       "<style scoped>\n",
       "    .dataframe tbody tr th:only-of-type {\n",
       "        vertical-align: middle;\n",
       "    }\n",
       "\n",
       "    .dataframe tbody tr th {\n",
       "        vertical-align: top;\n",
       "    }\n",
       "\n",
       "    .dataframe thead th {\n",
       "        text-align: right;\n",
       "    }\n",
       "</style>\n",
       "<table border=\"1\" class=\"dataframe\">\n",
       "  <thead>\n",
       "    <tr style=\"text-align: right;\">\n",
       "      <th></th>\n",
       "      <th>0</th>\n",
       "      <th>1</th>\n",
       "      <th>2</th>\n",
       "      <th>3</th>\n",
       "    </tr>\n",
       "  </thead>\n",
       "  <tbody>\n",
       "    <tr>\n",
       "      <th>0</th>\n",
       "      <td>0.0</td>\n",
       "      <td>0.0</td>\n",
       "      <td>0.0</td>\n",
       "      <td>1.0</td>\n",
       "    </tr>\n",
       "    <tr>\n",
       "      <th>1</th>\n",
       "      <td>0.0</td>\n",
       "      <td>0.0</td>\n",
       "      <td>0.0</td>\n",
       "      <td>1.0</td>\n",
       "    </tr>\n",
       "    <tr>\n",
       "      <th>2</th>\n",
       "      <td>0.0</td>\n",
       "      <td>0.0</td>\n",
       "      <td>0.0</td>\n",
       "      <td>1.0</td>\n",
       "    </tr>\n",
       "    <tr>\n",
       "      <th>3</th>\n",
       "      <td>0.0</td>\n",
       "      <td>0.0</td>\n",
       "      <td>0.0</td>\n",
       "      <td>1.0</td>\n",
       "    </tr>\n",
       "    <tr>\n",
       "      <th>4</th>\n",
       "      <td>0.0</td>\n",
       "      <td>0.0</td>\n",
       "      <td>0.0</td>\n",
       "      <td>1.0</td>\n",
       "    </tr>\n",
       "  </tbody>\n",
       "</table>\n",
       "</div>"
      ],
      "text/plain": [
       "     0    1    2    3\n",
       "0  0.0  0.0  0.0  1.0\n",
       "1  0.0  0.0  0.0  1.0\n",
       "2  0.0  0.0  0.0  1.0\n",
       "3  0.0  0.0  0.0  1.0\n",
       "4  0.0  0.0  0.0  1.0"
      ]
     },
     "execution_count": 311,
     "metadata": {},
     "output_type": "execute_result"
    }
   ],
   "source": [
    "onehotencoder = OneHotEncoder(categorical_features = [0])\n",
    "y_OHE = pd.DataFrame(onehotencoder.fit_transform(pd.DataFrame(y_LE)).toarray())\n",
    "y_OHE.head()"
   ]
  },
  {
   "cell_type": "code",
   "execution_count": 312,
   "metadata": {},
   "outputs": [
    {
     "data": {
      "text/html": [
       "<div>\n",
       "<style scoped>\n",
       "    .dataframe tbody tr th:only-of-type {\n",
       "        vertical-align: middle;\n",
       "    }\n",
       "\n",
       "    .dataframe tbody tr th {\n",
       "        vertical-align: top;\n",
       "    }\n",
       "\n",
       "    .dataframe thead th {\n",
       "        text-align: right;\n",
       "    }\n",
       "</style>\n",
       "<table border=\"1\" class=\"dataframe\">\n",
       "  <thead>\n",
       "    <tr style=\"text-align: right;\">\n",
       "      <th></th>\n",
       "      <th>0</th>\n",
       "      <th>1</th>\n",
       "      <th>2</th>\n",
       "      <th>3</th>\n",
       "      <th>4</th>\n",
       "      <th>5</th>\n",
       "      <th>6</th>\n",
       "      <th>7</th>\n",
       "      <th>8</th>\n",
       "      <th>9</th>\n",
       "      <th>...</th>\n",
       "      <th>17</th>\n",
       "      <th>18</th>\n",
       "      <th>19</th>\n",
       "      <th>20</th>\n",
       "      <th>21</th>\n",
       "      <th>22</th>\n",
       "      <th>23</th>\n",
       "      <th>24</th>\n",
       "      <th>25</th>\n",
       "      <th>26</th>\n",
       "    </tr>\n",
       "  </thead>\n",
       "  <tbody>\n",
       "    <tr>\n",
       "      <th>0</th>\n",
       "      <td>1.0</td>\n",
       "      <td>0.0</td>\n",
       "      <td>0.0</td>\n",
       "      <td>0.0</td>\n",
       "      <td>0.0</td>\n",
       "      <td>0.0</td>\n",
       "      <td>1.0</td>\n",
       "      <td>1.0</td>\n",
       "      <td>0.0</td>\n",
       "      <td>0.0</td>\n",
       "      <td>...</td>\n",
       "      <td>0.186207</td>\n",
       "      <td>0.194292</td>\n",
       "      <td>0.744186</td>\n",
       "      <td>0.367521</td>\n",
       "      <td>0.947368</td>\n",
       "      <td>0.857143</td>\n",
       "      <td>0.721610</td>\n",
       "      <td>0.716093</td>\n",
       "      <td>0.700000</td>\n",
       "      <td>0.759145</td>\n",
       "    </tr>\n",
       "    <tr>\n",
       "      <th>1</th>\n",
       "      <td>1.0</td>\n",
       "      <td>0.0</td>\n",
       "      <td>0.0</td>\n",
       "      <td>0.0</td>\n",
       "      <td>0.0</td>\n",
       "      <td>0.0</td>\n",
       "      <td>1.0</td>\n",
       "      <td>1.0</td>\n",
       "      <td>0.0</td>\n",
       "      <td>0.0</td>\n",
       "      <td>...</td>\n",
       "      <td>0.186207</td>\n",
       "      <td>0.187706</td>\n",
       "      <td>0.744186</td>\n",
       "      <td>0.367521</td>\n",
       "      <td>0.941924</td>\n",
       "      <td>0.714286</td>\n",
       "      <td>0.727839</td>\n",
       "      <td>0.722672</td>\n",
       "      <td>0.705128</td>\n",
       "      <td>0.759620</td>\n",
       "    </tr>\n",
       "    <tr>\n",
       "      <th>2</th>\n",
       "      <td>1.0</td>\n",
       "      <td>0.0</td>\n",
       "      <td>0.0</td>\n",
       "      <td>0.0</td>\n",
       "      <td>0.0</td>\n",
       "      <td>0.0</td>\n",
       "      <td>1.0</td>\n",
       "      <td>1.0</td>\n",
       "      <td>0.0</td>\n",
       "      <td>0.0</td>\n",
       "      <td>...</td>\n",
       "      <td>0.186207</td>\n",
       "      <td>0.195390</td>\n",
       "      <td>0.767442</td>\n",
       "      <td>0.358974</td>\n",
       "      <td>0.914701</td>\n",
       "      <td>0.714286</td>\n",
       "      <td>0.730714</td>\n",
       "      <td>0.728239</td>\n",
       "      <td>0.709231</td>\n",
       "      <td>0.763895</td>\n",
       "    </tr>\n",
       "    <tr>\n",
       "      <th>3</th>\n",
       "      <td>1.0</td>\n",
       "      <td>0.0</td>\n",
       "      <td>0.0</td>\n",
       "      <td>0.0</td>\n",
       "      <td>0.0</td>\n",
       "      <td>0.0</td>\n",
       "      <td>1.0</td>\n",
       "      <td>1.0</td>\n",
       "      <td>0.0</td>\n",
       "      <td>0.0</td>\n",
       "      <td>...</td>\n",
       "      <td>0.186207</td>\n",
       "      <td>0.199780</td>\n",
       "      <td>0.744186</td>\n",
       "      <td>0.350427</td>\n",
       "      <td>0.934664</td>\n",
       "      <td>0.714286</td>\n",
       "      <td>0.736464</td>\n",
       "      <td>0.732287</td>\n",
       "      <td>0.713846</td>\n",
       "      <td>0.769596</td>\n",
       "    </tr>\n",
       "    <tr>\n",
       "      <th>4</th>\n",
       "      <td>1.0</td>\n",
       "      <td>0.0</td>\n",
       "      <td>0.0</td>\n",
       "      <td>0.0</td>\n",
       "      <td>0.0</td>\n",
       "      <td>0.0</td>\n",
       "      <td>1.0</td>\n",
       "      <td>1.0</td>\n",
       "      <td>0.0</td>\n",
       "      <td>0.0</td>\n",
       "      <td>...</td>\n",
       "      <td>0.179310</td>\n",
       "      <td>0.208562</td>\n",
       "      <td>0.767442</td>\n",
       "      <td>0.341880</td>\n",
       "      <td>0.941924</td>\n",
       "      <td>0.857143</td>\n",
       "      <td>0.739339</td>\n",
       "      <td>0.736336</td>\n",
       "      <td>0.722051</td>\n",
       "      <td>0.771496</td>\n",
       "    </tr>\n",
       "  </tbody>\n",
       "</table>\n",
       "<p>5 rows × 27 columns</p>\n",
       "</div>"
      ],
      "text/plain": [
       "    0    1    2    3    4    5    6    7    8    9     ...           17  \\\n",
       "0  1.0  0.0  0.0  0.0  0.0  0.0  1.0  1.0  0.0  0.0    ...     0.186207   \n",
       "1  1.0  0.0  0.0  0.0  0.0  0.0  1.0  1.0  0.0  0.0    ...     0.186207   \n",
       "2  1.0  0.0  0.0  0.0  0.0  0.0  1.0  1.0  0.0  0.0    ...     0.186207   \n",
       "3  1.0  0.0  0.0  0.0  0.0  0.0  1.0  1.0  0.0  0.0    ...     0.186207   \n",
       "4  1.0  0.0  0.0  0.0  0.0  0.0  1.0  1.0  0.0  0.0    ...     0.179310   \n",
       "\n",
       "         18        19        20        21        22        23        24  \\\n",
       "0  0.194292  0.744186  0.367521  0.947368  0.857143  0.721610  0.716093   \n",
       "1  0.187706  0.744186  0.367521  0.941924  0.714286  0.727839  0.722672   \n",
       "2  0.195390  0.767442  0.358974  0.914701  0.714286  0.730714  0.728239   \n",
       "3  0.199780  0.744186  0.350427  0.934664  0.714286  0.736464  0.732287   \n",
       "4  0.208562  0.767442  0.341880  0.941924  0.857143  0.739339  0.736336   \n",
       "\n",
       "         25        26  \n",
       "0  0.700000  0.759145  \n",
       "1  0.705128  0.759620  \n",
       "2  0.709231  0.763895  \n",
       "3  0.713846  0.769596  \n",
       "4  0.722051  0.771496  \n",
       "\n",
       "[5 rows x 27 columns]"
      ]
     },
     "execution_count": 312,
     "metadata": {},
     "output_type": "execute_result"
    }
   ],
   "source": [
    "#normalize the dataset\n",
    "scaler = MinMaxScaler()\n",
    "X_OHE_SC = pd.DataFrame(scaler.fit_transform(X_OHE))\n",
    "X_OHE_SC.head()"
   ]
  },
  {
   "cell_type": "code",
   "execution_count": 313,
   "metadata": {},
   "outputs": [
    {
     "data": {
      "text/plain": [
       "(1555, 27)"
      ]
     },
     "execution_count": 313,
     "metadata": {},
     "output_type": "execute_result"
    }
   ],
   "source": [
    "X_OHE_SC.shape"
   ]
  },
  {
   "cell_type": "code",
   "execution_count": 314,
   "metadata": {},
   "outputs": [],
   "source": [
    "X_train, X_test, y_train, y_test = train_test_split(X_OHE_SC, y_OHE, test_size=0.2, random_state=42)"
   ]
  },
  {
   "cell_type": "code",
   "execution_count": 315,
   "metadata": {},
   "outputs": [
    {
     "data": {
      "text/plain": [
       "(1244, 27)"
      ]
     },
     "execution_count": 315,
     "metadata": {},
     "output_type": "execute_result"
    }
   ],
   "source": [
    "X_train.shape"
   ]
  },
  {
   "cell_type": "code",
   "execution_count": 341,
   "metadata": {},
   "outputs": [],
   "source": [
    "def baseline_model():\n",
    "    model = Sequential()\n",
    "    model.add(Dense(2048, input_dim=27, kernel_initializer='normal', activation='relu'))\n",
    "    model.add(Dropout(0.1))\n",
    "    model.add(Dense(1024, kernel_initializer='normal', activation='relu'))\n",
    "    model.add(Dropout(0.1))\n",
    "#     model.add(Dense(1024, kernel_initializer='normal', activation='relu'))\n",
    "#     model.add(Dense(1024, kernel_initializer='normal', activation='relu'))\n",
    "#     model.add(Dropout(0.1))\n",
    "    model.add(Dense(4, kernel_initializer='normal', activation='softmax'))\n",
    "    model.compile(loss='categorical_crossentropy', optimizer=keras.optimizers.Adam(0.05), metrics=[ 'accuracy'])\n",
    "    return model"
   ]
  },
  {
   "cell_type": "code",
   "execution_count": 342,
   "metadata": {},
   "outputs": [
    {
     "name": "stdout",
     "output_type": "stream",
     "text": [
      "Epoch 1/100\n",
      "1244/1244 [==============================] - 1s 1ms/step - loss: 1.2392 - accuracy: 0.5145\n",
      "Epoch 2/100\n",
      "1244/1244 [==============================] - 1s 993us/step - loss: 0.9826 - accuracy: 0.5563\n",
      "Epoch 3/100\n",
      "1244/1244 [==============================] - 1s 998us/step - loss: 0.9645 - accuracy: 0.5587\n",
      "Epoch 4/100\n",
      "1244/1244 [==============================] - 1s 989us/step - loss: 0.9213 - accuracy: 0.5603\n",
      "Epoch 5/100\n",
      "1244/1244 [==============================] - 1s 1ms/step - loss: 0.8540 - accuracy: 0.6125\n",
      "Epoch 6/100\n",
      "1244/1244 [==============================] - 1s 1ms/step - loss: 0.8430 - accuracy: 0.5932\n",
      "Epoch 7/100\n",
      "1244/1244 [==============================] - 1s 1ms/step - loss: 0.8010 - accuracy: 0.6294\n",
      "Epoch 8/100\n",
      "1244/1244 [==============================] - 2s 1ms/step - loss: 0.7424 - accuracy: 0.6503\n",
      "Epoch 9/100\n",
      "1244/1244 [==============================] - 1s 1ms/step - loss: 0.6947 - accuracy: 0.6777\n",
      "Epoch 10/100\n",
      "1244/1244 [==============================] - 1s 1ms/step - loss: 0.6268 - accuracy: 0.7195\n",
      "Epoch 11/100\n",
      "1244/1244 [==============================] - 1s 1ms/step - loss: 0.5815 - accuracy: 0.7251\n",
      "Epoch 12/100\n",
      "1244/1244 [==============================] - 1s 1ms/step - loss: 0.5595 - accuracy: 0.7275\n",
      "Epoch 13/100\n",
      "1244/1244 [==============================] - 1s 1ms/step - loss: 0.5374 - accuracy: 0.7395\n",
      "Epoch 14/100\n",
      "1244/1244 [==============================] - 1s 1ms/step - loss: 0.5666 - accuracy: 0.7178\n",
      "Epoch 15/100\n",
      "1244/1244 [==============================] - 1s 1ms/step - loss: 0.4985 - accuracy: 0.7556\n",
      "Epoch 16/100\n",
      "1244/1244 [==============================] - 1s 1ms/step - loss: 0.4860 - accuracy: 0.7629\n",
      "Epoch 17/100\n",
      "1244/1244 [==============================] - 1s 1ms/step - loss: 0.5290 - accuracy: 0.7323\n",
      "Epoch 18/100\n",
      "1244/1244 [==============================] - 1s 1ms/step - loss: 0.5153 - accuracy: 0.7404\n",
      "Epoch 19/100\n",
      "1244/1244 [==============================] - 1s 1ms/step - loss: 0.4548 - accuracy: 0.7741\n",
      "Epoch 20/100\n",
      "1244/1244 [==============================] - 1s 1ms/step - loss: 0.4391 - accuracy: 0.7725\n",
      "Epoch 21/100\n",
      "1244/1244 [==============================] - 1s 1ms/step - loss: 0.4755 - accuracy: 0.7500\n",
      "Epoch 22/100\n",
      "1244/1244 [==============================] - 1s 1ms/step - loss: 0.4733 - accuracy: 0.7540\n",
      "Epoch 23/100\n",
      "1244/1244 [==============================] - 1s 1ms/step - loss: 0.4665 - accuracy: 0.7540\n",
      "Epoch 24/100\n",
      "1244/1244 [==============================] - 1s 1ms/step - loss: 0.4810 - accuracy: 0.7508\n",
      "Epoch 25/100\n",
      "1244/1244 [==============================] - 1s 1ms/step - loss: 0.4409 - accuracy: 0.7725\n",
      "Epoch 26/100\n",
      "1244/1244 [==============================] - 1s 1ms/step - loss: 0.4392 - accuracy: 0.7846\n",
      "Epoch 27/100\n",
      "1244/1244 [==============================] - 1s 1ms/step - loss: 0.4811 - accuracy: 0.7420\n",
      "Epoch 28/100\n",
      "1244/1244 [==============================] - 1s 1ms/step - loss: 0.4726 - accuracy: 0.7500\n",
      "Epoch 29/100\n",
      "1244/1244 [==============================] - 1s 1ms/step - loss: 0.4650 - accuracy: 0.7661\n",
      "Epoch 30/100\n",
      "1244/1244 [==============================] - 1s 1ms/step - loss: 0.4438 - accuracy: 0.7572\n",
      "Epoch 31/100\n",
      "1244/1244 [==============================] - 1s 1ms/step - loss: 0.5058 - accuracy: 0.7387\n",
      "Epoch 32/100\n",
      "1244/1244 [==============================] - 1s 1ms/step - loss: 0.4571 - accuracy: 0.7653\n",
      "Epoch 33/100\n",
      "1244/1244 [==============================] - 1s 1ms/step - loss: 0.4279 - accuracy: 0.7757\n",
      "Epoch 34/100\n",
      "1244/1244 [==============================] - 1s 1ms/step - loss: 0.4555 - accuracy: 0.7765\n",
      "Epoch 35/100\n",
      "1244/1244 [==============================] - 1s 1ms/step - loss: 0.4143 - accuracy: 0.7781\n",
      "Epoch 36/100\n",
      "1244/1244 [==============================] - 1s 1ms/step - loss: 0.4768 - accuracy: 0.7548\n",
      "Epoch 37/100\n",
      "1244/1244 [==============================] - 1s 1ms/step - loss: 0.4588 - accuracy: 0.7693\n",
      "Epoch 38/100\n",
      "1244/1244 [==============================] - 1s 1ms/step - loss: 0.4374 - accuracy: 0.7814\n",
      "Epoch 39/100\n",
      "1244/1244 [==============================] - 1s 972us/step - loss: 0.4301 - accuracy: 0.7830\n",
      "Epoch 40/100\n",
      "1244/1244 [==============================] - 1s 1ms/step - loss: 0.4337 - accuracy: 0.7934\n",
      "Epoch 41/100\n",
      "1244/1244 [==============================] - 1s 1ms/step - loss: 0.4446 - accuracy: 0.7765\n",
      "Epoch 42/100\n",
      "1244/1244 [==============================] - 1s 1ms/step - loss: 0.4181 - accuracy: 0.7814\n",
      "Epoch 43/100\n",
      "1244/1244 [==============================] - 1s 1ms/step - loss: 0.4659 - accuracy: 0.7677\n",
      "Epoch 44/100\n",
      "1244/1244 [==============================] - 1s 1ms/step - loss: 0.4404 - accuracy: 0.7717\n",
      "Epoch 45/100\n",
      "1244/1244 [==============================] - 1s 1ms/step - loss: 0.4077 - accuracy: 0.7773\n",
      "Epoch 46/100\n",
      "1244/1244 [==============================] - 1s 1ms/step - loss: 0.3750 - accuracy: 0.7998\n",
      "Epoch 47/100\n",
      "1244/1244 [==============================] - 1s 1ms/step - loss: 0.3988 - accuracy: 0.7966\n",
      "Epoch 48/100\n",
      "1244/1244 [==============================] - 1s 1ms/step - loss: 0.3976 - accuracy: 0.7805\n",
      "Epoch 49/100\n",
      "1244/1244 [==============================] - 1s 1ms/step - loss: 0.3995 - accuracy: 0.8031\n",
      "Epoch 50/100\n",
      "1244/1244 [==============================] - 1s 1ms/step - loss: 0.4166 - accuracy: 0.7814\n",
      "Epoch 51/100\n",
      "1244/1244 [==============================] - 1s 1ms/step - loss: 0.4182 - accuracy: 0.7878\n",
      "Epoch 52/100\n",
      "1244/1244 [==============================] - 1s 1ms/step - loss: 0.4140 - accuracy: 0.7870\n",
      "Epoch 53/100\n",
      "1244/1244 [==============================] - 1s 1ms/step - loss: 0.4186 - accuracy: 0.7894\n",
      "Epoch 54/100\n",
      "1244/1244 [==============================] - 1s 1ms/step - loss: 0.3932 - accuracy: 0.7789\n",
      "Epoch 55/100\n",
      "1244/1244 [==============================] - 1s 1ms/step - loss: 0.3822 - accuracy: 0.7910\n",
      "Epoch 56/100\n",
      "1244/1244 [==============================] - 1s 1ms/step - loss: 0.4070 - accuracy: 0.7894\n",
      "Epoch 57/100\n",
      "1244/1244 [==============================] - 1s 1ms/step - loss: 0.3910 - accuracy: 0.8055\n",
      "Epoch 58/100\n",
      "1244/1244 [==============================] - 1s 1ms/step - loss: 0.3718 - accuracy: 0.8087\n",
      "Epoch 59/100\n",
      "1244/1244 [==============================] - 1s 1ms/step - loss: 0.4151 - accuracy: 0.7974\n",
      "Epoch 60/100\n",
      "1244/1244 [==============================] - 1s 1ms/step - loss: 0.3835 - accuracy: 0.7966\n",
      "Epoch 61/100\n",
      "1244/1244 [==============================] - 1s 1ms/step - loss: 0.3831 - accuracy: 0.8079\n",
      "Epoch 62/100\n",
      "1244/1244 [==============================] - 1s 1ms/step - loss: 0.3665 - accuracy: 0.7982\n",
      "Epoch 63/100\n",
      "1244/1244 [==============================] - 1s 1ms/step - loss: 0.4209 - accuracy: 0.8055\n",
      "Epoch 64/100\n",
      "1244/1244 [==============================] - 1s 1ms/step - loss: 0.3921 - accuracy: 0.8014\n",
      "Epoch 65/100\n",
      "1244/1244 [==============================] - 1s 1ms/step - loss: 0.3991 - accuracy: 0.7958\n",
      "Epoch 66/100\n",
      "1244/1244 [==============================] - 1s 1ms/step - loss: 0.3520 - accuracy: 0.8215\n",
      "Epoch 67/100\n",
      "1244/1244 [==============================] - 1s 1ms/step - loss: 0.3681 - accuracy: 0.8127\n",
      "Epoch 68/100\n",
      "1244/1244 [==============================] - 1s 1ms/step - loss: 0.3603 - accuracy: 0.8215\n",
      "Epoch 69/100\n",
      "1244/1244 [==============================] - 1s 1ms/step - loss: 0.3813 - accuracy: 0.8031\n",
      "Epoch 70/100\n",
      "1244/1244 [==============================] - 1s 1ms/step - loss: 0.3606 - accuracy: 0.8264\n",
      "Epoch 71/100\n",
      "1244/1244 [==============================] - 1s 1ms/step - loss: 0.3719 - accuracy: 0.8103\n",
      "Epoch 72/100\n",
      "1244/1244 [==============================] - 1s 1ms/step - loss: 0.3913 - accuracy: 0.7950\n",
      "Epoch 73/100\n",
      "1244/1244 [==============================] - 1s 1ms/step - loss: 0.3942 - accuracy: 0.8047\n",
      "Epoch 74/100\n",
      "1244/1244 [==============================] - 1s 989us/step - loss: 0.3787 - accuracy: 0.8175\n",
      "Epoch 75/100\n",
      "1244/1244 [==============================] - 1s 1ms/step - loss: 0.3660 - accuracy: 0.8119\n",
      "Epoch 76/100\n",
      "1244/1244 [==============================] - 1s 989us/step - loss: 0.3851 - accuracy: 0.8175\n",
      "Epoch 77/100\n",
      "1244/1244 [==============================] - 1s 975us/step - loss: 0.3715 - accuracy: 0.8183\n",
      "Epoch 78/100\n",
      "1244/1244 [==============================] - 1s 990us/step - loss: 0.3578 - accuracy: 0.8207\n",
      "Epoch 79/100\n"
     ]
    },
    {
     "name": "stdout",
     "output_type": "stream",
     "text": [
      "1244/1244 [==============================] - 1s 977us/step - loss: 0.3549 - accuracy: 0.8143\n",
      "Epoch 80/100\n",
      "1244/1244 [==============================] - 1s 1ms/step - loss: 0.3426 - accuracy: 0.8199\n",
      "Epoch 81/100\n",
      "1244/1244 [==============================] - 1s 1ms/step - loss: 0.3260 - accuracy: 0.8312\n",
      "Epoch 82/100\n",
      "1244/1244 [==============================] - 1s 1ms/step - loss: 0.3378 - accuracy: 0.8320\n",
      "Epoch 83/100\n",
      "1244/1244 [==============================] - 1s 1ms/step - loss: 0.3656 - accuracy: 0.8175\n",
      "Epoch 84/100\n",
      "1244/1244 [==============================] - 1s 1ms/step - loss: 0.3272 - accuracy: 0.8384\n",
      "Epoch 85/100\n",
      "1244/1244 [==============================] - 1s 990us/step - loss: 0.3047 - accuracy: 0.8441\n",
      "Epoch 86/100\n",
      "1244/1244 [==============================] - 1s 1ms/step - loss: 0.3184 - accuracy: 0.8416\n",
      "Epoch 87/100\n",
      "1244/1244 [==============================] - 1s 1ms/step - loss: 0.3360 - accuracy: 0.8304\n",
      "Epoch 88/100\n",
      "1244/1244 [==============================] - 1s 990us/step - loss: 0.3417 - accuracy: 0.8232\n",
      "Epoch 89/100\n",
      "1244/1244 [==============================] - 1s 984us/step - loss: 0.3318 - accuracy: 0.8424\n",
      "Epoch 90/100\n",
      "1244/1244 [==============================] - 1s 1ms/step - loss: 0.3189 - accuracy: 0.8432\n",
      "Epoch 91/100\n",
      "1244/1244 [==============================] - 1s 1ms/step - loss: 0.3450 - accuracy: 0.8272\n",
      "Epoch 92/100\n",
      "1244/1244 [==============================] - 1s 1ms/step - loss: 0.3523 - accuracy: 0.8215\n",
      "Epoch 93/100\n",
      "1244/1244 [==============================] - 2s 1ms/step - loss: 0.2924 - accuracy: 0.8521\n",
      "Epoch 94/100\n",
      "1244/1244 [==============================] - 1s 1ms/step - loss: 0.3217 - accuracy: 0.8312\n",
      "Epoch 95/100\n",
      "1244/1244 [==============================] - 1s 1ms/step - loss: 0.3668 - accuracy: 0.8199\n",
      "Epoch 96/100\n",
      "1244/1244 [==============================] - 1s 1ms/step - loss: 0.3331 - accuracy: 0.8344\n",
      "Epoch 97/100\n",
      "1244/1244 [==============================] - 1s 1ms/step - loss: 0.3200 - accuracy: 0.8416\n",
      "Epoch 98/100\n",
      "1244/1244 [==============================] - 1s 1ms/step - loss: 0.3365 - accuracy: 0.8352\n",
      "Epoch 99/100\n",
      "1244/1244 [==============================] - 1s 975us/step - loss: 0.3070 - accuracy: 0.8497\n",
      "Epoch 100/100\n",
      "1244/1244 [==============================] - 1s 998us/step - loss: 0.3312 - accuracy: 0.8392\n"
     ]
    },
    {
     "data": {
      "text/plain": [
       "<keras.callbacks.callbacks.History at 0x18c86d4ada0>"
      ]
     },
     "execution_count": 342,
     "metadata": {},
     "output_type": "execute_result"
    }
   ],
   "source": [
    "from keras.wrappers.scikit_learn import KerasClassifier\n",
    "# from keras.callbacks import EarlyStopping\n",
    "# simple early stopping\n",
    "# es = EarlyStopping(monitor='accuracy', mode='max', verbose=0, patience=20)\n",
    "# define the checkpoint\n",
    "# filepath = \"model.h5\"\n",
    "# checkpoint = ModelCheckpoint(filepath, monitor='accuracy', verbose=0, save_best_only=True, mode='max')\n",
    "estimator = KerasClassifier(build_fn=baseline_model, epochs=100, batch_size=32, verbose=1)\n",
    "\n",
    "estimator.fit(X_train, y_train)"
   ]
  },
  {
   "cell_type": "code",
   "execution_count": 343,
   "metadata": {},
   "outputs": [
    {
     "name": "stdout",
     "output_type": "stream",
     "text": [
      "311/311 [==============================] - 0s 170us/step\n",
      "311/311 [==============================] - 0s 103us/step\n"
     ]
    },
    {
     "data": {
      "image/png": "[encoded data removed]",
      "text/plain": [
       "<Figure size 432x288 with 1 Axes>"
      ]
     },
     "metadata": {
      "needs_background": "light"
     },
     "output_type": "display_data"
    }
   ],
   "source": [
    "y_test_arr = y_test.values\n",
    "y_score = estimator.predict_proba(X_test)\n",
    "yhat = estimator.predict(X_test)\n",
    "# est_probs\n",
    "# calculate precision-recall curve\n",
    "# precision, recall, thresholds = precision_recall_curve(y_test, yhat)\n",
    "# --------------------------------\n",
    "# precision recall curve\n",
    "precision = dict()\n",
    "recall = dict()\n",
    "f1 = dict()\n",
    "for i in range(4):\n",
    "    precision[i], recall[i], _ = precision_recall_curve(y_test_arr[:, i],\n",
    "                                                        y_score[:, i])\n",
    "#     f1[i] = f1_score(y_test_arr[:, i], yhat[:, i])\n",
    "    plt.plot(recall[i], precision[i], lw=2, label='class {}'.format(i))\n",
    "\n",
    "plt.plot([0, 1], [0.5, 0.5], linestyle='--')\n",
    "\n",
    "plt.xlabel(\"recall\")\n",
    "plt.ylabel(\"precision\")\n",
    "plt.legend(loc=\"best\")\n",
    "plt.title(\"precision vs. recall curve\")\n",
    "plt.show()\n",
    "\n",
    "# ----------------------------\n",
    "# # calculate F1 score\n",
    "# f1 = f1_score(y_test, yhat)\n",
    "# # calculate precision-recall AUC\n",
    "# auc_F = auc(recall, precision)\n",
    "# # calculate average precision score\n",
    "# ap = average_precision_score(y_test, yhat)\n",
    "# print('f1=%.3f auc=%.3f ap=%.3f' % (f1, auc_F, ap))\n",
    "# # plot no skill\n",
    "# pyplot.plot([0, 1], [0.5, 0.5], linestyle='--')\n",
    "# # plot the precision-recall curve for the model\n",
    "# pyplot.plot(recall, precision, marker='.')\n",
    "# # show the plot\n",
    "\n",
    "# pyplot.show()"
   ]
  },
  {
   "cell_type": "code",
   "execution_count": 339,
   "metadata": {},
   "outputs": [
    {
     "data": {
      "image/png": "[encoded data removed]",
      "text/plain": [
       "<Figure size 432x288 with 1 Axes>"
      ]
     },
     "metadata": {
      "needs_background": "light"
     },
     "output_type": "display_data"
    }
   ],
   "source": [
    "# roc curve\n",
    "fpr = dict()\n",
    "tpr = dict()\n",
    "\n",
    "for i in range(4):\n",
    "    fpr[i], tpr[i], _ = roc_curve(y_test_arr[:, i],\n",
    "                                  y_score[:, i])\n",
    "    plt.plot(fpr[i], tpr[i], lw=2, label='class {}'.format(i))\n",
    "\n",
    "plt.plot([0, 1], [0, 1],'r--')\n",
    "plt.xlim([0, 1])\n",
    "plt.ylim([0, 1])\n",
    "plt.xlabel(\"false positive rate\")\n",
    "plt.ylabel(\"true positive rate\")\n",
    "plt.legend(loc=\"best\")\n",
    "plt.title(\"ROC curve\")\n",
    "plt.show()"
   ]
  },
  {
   "cell_type": "code",
   "execution_count": 340,
   "metadata": {},
   "outputs": [
    {
     "name": "stdout",
     "output_type": "stream",
     "text": [
      "311/311 [==============================] - 0s 93us/step\n"
     ]
    },
    {
     "data": {
      "text/plain": [
       "0.8231511254019293"
      ]
     },
     "execution_count": 340,
     "metadata": {},
     "output_type": "execute_result"
    }
   ],
   "source": [
    "from sklearn.metrics import accuracy_score, f1_score, precision_score, recall_score, classification_report, confusion_matrix\n",
    "\n",
    "y_pred = pd.DataFrame(estimator.predict(X_test.values))\n",
    "y_test_pd = pd.DataFrame(np.argmax(y_test.values, axis=-1))\n",
    "accuracy_score(y_test_pd, y_pred)"
   ]
  },
  {
   "cell_type": "code",
   "execution_count": null,
   "metadata": {},
   "outputs": [],
   "source": [
    "confusion_matrix(y_test_pd, y_pred) "
   ]
  },
  {
   "cell_type": "code",
   "execution_count": null,
   "metadata": {},
   "outputs": [],
   "source": [
    "print(classification_report(y_test_pd, y_pred))"
   ]
  },
  {
   "cell_type": "code",
   "execution_count": null,
   "metadata": {},
   "outputs": [],
   "source": []
  }
 ],
 "metadata": {
  "kernelspec": {
   "display_name": "Python 3",
   "language": "python",
   "name": "python3"
  },
  "language_info": {
   "codemirror_mode": {
    "name": "ipython",
    "version": 3
   },
   "file_extension": ".py",
   "mimetype": "text/x-python",
   "name": "python",
   "nbconvert_exporter": "python",
   "pygments_lexer": "ipython3",
   "version": "3.7.1"
  }
 },
 "nbformat": 4,
 "nbformat_minor": 2
}
